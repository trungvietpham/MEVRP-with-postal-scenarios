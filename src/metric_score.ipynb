{
 "cells": [
  {
   "cell_type": "code",
   "execution_count": 1,
   "metadata": {},
   "outputs": [
    {
     "name": "stdout",
     "output_type": "stream",
     "text": [
      "d:\\VIetpt\\DANO support\n"
     ]
    }
   ],
   "source": [
    "cd .."
   ]
  },
  {
   "cell_type": "code",
   "execution_count": 2,
   "metadata": {},
   "outputs": [],
   "source": [
    "import numpy as np\n",
    "# Tính độ hiệu quả thuật toán: \n",
    "import pandas as pd\n",
    "import os\n",
    "index = []\n",
    "total_distance = []\n",
    "total_time = []\n",
    "total_percentage = []\n",
    "total_cost = []\n",
    "filenames = os.listdir('scenarios')\n",
    "# filenames = ['transship_no_clustering_local_search.csv', 'transship2_hierarchical_single.csv']\n",
    "# filenames = ['delivery_no_clustering_local_search.csv', 'delivery_no_clustering_ga.csv', 'delivery_hierarchical_single.csv']\n",
    "def lambda_func(s):\n",
    "    if 'nan' in str(s): return 0\n",
    "    else: return float(s)\n",
    "    \n",
    "for filename in filenames:\n",
    "    if filename[-4:] != '.csv': continue\n",
    "    data = pd.read_csv('scenarios/' + filename, header=None, index_col=False)\n",
    "    if len(data.columns) == 5:\n",
    "        data.columns = ['province_code', 'no_nodes', 'distance', 'time', 'percentage']\n",
    "    else: data.columns = ['province_code', 'no_nodes', 'distance', 'time', 'percentage', 'cost']\n",
    "    data.fillna(0, inplace=True)\n",
    "    index.append(filename)\n",
    "    total_distance.append(np.sum(data['distance'].tolist()))\n",
    "    total_time.append(np.sum(data['time'].tolist()))\n",
    "    total_percentage.append(np.mean(data['percentage'].tolist()))\n",
    "    if 'cost' in data.columns: \n",
    "        data['cost'] = data['cost'].apply(lambda_func)\n",
    "        total_cost.append(np.sum(data['cost'].tolist()))\n",
    "    else: total_cost.append(0)\n"
   ]
  },
  {
   "cell_type": "code",
   "execution_count": 3,
   "metadata": {},
   "outputs": [
    {
     "data": {
      "text/html": [
       "<div>\n",
       "<style scoped>\n",
       "    .dataframe tbody tr th:only-of-type {\n",
       "        vertical-align: middle;\n",
       "    }\n",
       "\n",
       "    .dataframe tbody tr th {\n",
       "        vertical-align: top;\n",
       "    }\n",
       "\n",
       "    .dataframe thead th {\n",
       "        text-align: right;\n",
       "    }\n",
       "</style>\n",
       "<table border=\"1\" class=\"dataframe\">\n",
       "  <thead>\n",
       "    <tr style=\"text-align: right;\">\n",
       "      <th></th>\n",
       "      <th>total_distance</th>\n",
       "      <th>total_time</th>\n",
       "      <th>percentage</th>\n",
       "      <th>total_cost</th>\n",
       "    </tr>\n",
       "  </thead>\n",
       "  <tbody>\n",
       "    <tr>\n",
       "      <th>delivery_hierarchical_single.csv</th>\n",
       "      <td>11174.769260</td>\n",
       "      <td>9.676242</td>\n",
       "      <td>0.567436</td>\n",
       "      <td>8.372110e+08</td>\n",
       "    </tr>\n",
       "    <tr>\n",
       "      <th>delivery_no_clustering_local_search.csv</th>\n",
       "      <td>11204.747396</td>\n",
       "      <td>0.697251</td>\n",
       "      <td>0.563710</td>\n",
       "      <td>8.395353e+08</td>\n",
       "    </tr>\n",
       "    <tr>\n",
       "      <th>pickup2_hierarchical_single.csv</th>\n",
       "      <td>26340.708048</td>\n",
       "      <td>20.134720</td>\n",
       "      <td>inf</td>\n",
       "      <td>2.605872e+10</td>\n",
       "    </tr>\n",
       "    <tr>\n",
       "      <th>pickup_no_clustering_local_search.csv</th>\n",
       "      <td>23256.728846</td>\n",
       "      <td>56.926665</td>\n",
       "      <td>0.533107</td>\n",
       "      <td>1.464337e+09</td>\n",
       "    </tr>\n",
       "    <tr>\n",
       "      <th>transship2_hierarchical_single.csv</th>\n",
       "      <td>4069.548181</td>\n",
       "      <td>0.023529</td>\n",
       "      <td>0.290000</td>\n",
       "      <td>0.000000e+00</td>\n",
       "    </tr>\n",
       "    <tr>\n",
       "      <th>transship_no_clustering_local_search.csv</th>\n",
       "      <td>4017.567105</td>\n",
       "      <td>0.178150</td>\n",
       "      <td>0.262000</td>\n",
       "      <td>0.000000e+00</td>\n",
       "    </tr>\n",
       "  </tbody>\n",
       "</table>\n",
       "</div>"
      ],
      "text/plain": [
       "                                          total_distance  total_time  \\\n",
       "delivery_hierarchical_single.csv            11174.769260    9.676242   \n",
       "delivery_no_clustering_local_search.csv     11204.747396    0.697251   \n",
       "pickup2_hierarchical_single.csv             26340.708048   20.134720   \n",
       "pickup_no_clustering_local_search.csv       23256.728846   56.926665   \n",
       "transship2_hierarchical_single.csv           4069.548181    0.023529   \n",
       "transship_no_clustering_local_search.csv     4017.567105    0.178150   \n",
       "\n",
       "                                          percentage    total_cost  \n",
       "delivery_hierarchical_single.csv            0.567436  8.372110e+08  \n",
       "delivery_no_clustering_local_search.csv     0.563710  8.395353e+08  \n",
       "pickup2_hierarchical_single.csv                  inf  2.605872e+10  \n",
       "pickup_no_clustering_local_search.csv       0.533107  1.464337e+09  \n",
       "transship2_hierarchical_single.csv          0.290000  0.000000e+00  \n",
       "transship_no_clustering_local_search.csv    0.262000  0.000000e+00  "
      ]
     },
     "execution_count": 3,
     "metadata": {},
     "output_type": "execute_result"
    }
   ],
   "source": [
    "compare_df = pd.DataFrame(data={'total_distance': total_distance, 'total_time': total_time, 'percentage': total_percentage, 'total_cost': total_cost}, index=index)\n",
    "compare_df"
   ]
  }
 ],
 "metadata": {
  "kernelspec": {
   "display_name": "project2",
   "language": "python",
   "name": "python3"
  },
  "language_info": {
   "codemirror_mode": {
    "name": "ipython",
    "version": 3
   },
   "file_extension": ".py",
   "mimetype": "text/x-python",
   "name": "python",
   "nbconvert_exporter": "python",
   "pygments_lexer": "ipython3",
   "version": "3.10.8"
  },
  "orig_nbformat": 4
 },
 "nbformat": 4,
 "nbformat_minor": 2
}
